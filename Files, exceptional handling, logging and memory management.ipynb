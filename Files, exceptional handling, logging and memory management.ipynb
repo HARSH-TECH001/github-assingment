{
 "cells": [
  {
   "cell_type": "markdown",
   "id": "612c27da-bc83-4d91-9576-55a1c2bd47e5",
   "metadata": {},
   "source": [
    "1. What is the difference between interpreted and compiled languages?\n",
    "\n",
    "Answer:\n",
    "\n",
    "Interpreted languages execute code line-by-line at runtime (e.g., Python).\n",
    "\n",
    "Compiled languages are translated into machine code before execution (e.g., C, C++).\n",
    "\n",
    "Interpreted is slower but easier to debug; compiled is faster but needs a build step.\n",
    "\n"
   ]
  },
  {
   "cell_type": "markdown",
   "id": "764f8dbb-51e1-44cc-ad67-1476c0a55f89",
   "metadata": {},
   "source": [
    "2. What is exception handling in Python?\n",
    "\n",
    "Answer:\n",
    "Exception handling allows you to manage runtime errors gracefully using try, except, else, and finally blocks.\n",
    "\n"
   ]
  },
  {
   "cell_type": "markdown",
   "id": "bc7b0b39-eed1-4a90-b07e-944ed0876f64",
   "metadata": {},
   "source": [
    "3. What is the purpose of the finally block in exception handling?\n",
    "\n",
    "Answer:\n",
    "The finally block always executes, regardless of whether an exception occurred. It is typically used for resource cleanup like closing files or releasing locks.\n",
    "\n"
   ]
  },
  {
   "cell_type": "markdown",
   "id": "4c16ed52-c538-4c90-848c-3f6f7a69a0c4",
   "metadata": {},
   "source": [
    "4. What is logging in Python?\n",
    "\n",
    "Answer:\n",
    "Logging is a way to record messages, events, or errors while a program runs. It helps with debugging and monitoring, using the logging module.\n",
    "\n"
   ]
  },
  {
   "cell_type": "markdown",
   "id": "ffe5b53b-9244-4d29-b617-fd12a6301cd8",
   "metadata": {},
   "source": [
    "5. What is the significance of the __del__ method in Python?\n",
    "\n",
    "Answer:\n",
    "__del__() is a destructor method called when an object is about to be destroyed. It can be used to clean up resources like files or connections.\n",
    "\n"
   ]
  },
  {
   "cell_type": "markdown",
   "id": "cb89bfd4-004c-4de0-98fe-20a7909be8c0",
   "metadata": {},
   "source": [
    "6. What is the difference between import and from ... import in Python?\n",
    "\n",
    "Answer:\n",
    "\n",
    "import module: Imports the entire module. Usage: module.function()\n",
    "\n",
    "from module import function: Imports specific parts. Usage: function()\n",
    "\n"
   ]
  },
  {
   "cell_type": "markdown",
   "id": "ffa2dfa9-b2cb-4ed9-bced-e6355ebe2e70",
   "metadata": {},
   "source": [
    "7. How can you handle multiple exceptions in Python?\n",
    "\n",
    "Answer:\n",
    "You can use a tuple in the except block:\n",
    "\n",
    "try:\n",
    "    \n",
    "    # code\n",
    "\n",
    "except (TypeError, ValueError) as e:\n",
    "    \n",
    "    print(e)"
   ]
  },
  {
   "cell_type": "markdown",
   "id": "a360e264-361b-4b6f-94d5-f6da181188c1",
   "metadata": {},
   "source": [
    "8. What is the purpose of the with statement in file handling?\n",
    "\n",
    "Answer:\n",
    "The with statement ensures files are automatically closed after their suite finishes, even if an error occurs.\n",
    "\n",
    "with open(\"file.txt\", \"r\") as f:\n",
    "    data = f.read()"
   ]
  },
  {
   "cell_type": "markdown",
   "id": "4e2e05aa-a997-48fe-9f20-a20b5ad1328f",
   "metadata": {},
   "source": [
    "9. What is the difference between multithreading and multiprocessing?\n",
    "\n",
    "Answer:\n",
    "\n",
    "Multithreading: Runs multiple threads in a single process (shared memory).\n",
    "\n",
    "Multiprocessing: Runs multiple processes (separate memory).\n",
    "Multiprocessing is better for CPU-bound tasks, multithreading for I/O-bound tasks.\n",
    "\n"
   ]
  },
  {
   "cell_type": "markdown",
   "id": "3968fded-91fb-4389-a315-59c2a702fe5d",
   "metadata": {},
   "source": [
    "10. What are the advantages of using logging in a program?\n",
    "\n",
    "Answer:\n",
    "\n",
    "Helps debug and monitor applications\n",
    "\n",
    "Records events, errors, and warnings\n",
    "\n",
    "Can log to files instead of console\n",
    "\n",
    "Adjustable logging levels for filtering\n",
    "\n"
   ]
  },
  {
   "cell_type": "markdown",
   "id": "fb4567bb-431a-4338-956f-8f7141435854",
   "metadata": {},
   "source": [
    "11. What is memory management in Python?\n",
    "\n",
    "Answer:\n",
    "Python automatically handles memory through reference counting and a cyclic garbage collector that cleans up unused objects"
   ]
  },
  {
   "cell_type": "markdown",
   "id": "86536a6a-ef2d-4fea-b623-ee9b4f22e318",
   "metadata": {},
   "source": [
    "12. What are the basic steps involved in exception handling in Python?\n",
    "\n",
    "Answer:\n",
    "\n",
    "1)try block for risky code\n",
    "\n",
    "2)except block to catch and handle the error\n",
    "\n",
    "3)else block (optional) runs if no exception\n",
    "\n",
    "4)finally block (optional) runs no matter what\n",
    "\n"
   ]
  },
  {
   "cell_type": "markdown",
   "id": "7c7e73be-21f6-46d5-a15f-f9af2cdaad63",
   "metadata": {},
   "source": [
    "13. Why is memory management important in Python?\n",
    "\n",
    "Answer:\n",
    "It prevents memory leaks, ensures performance, and allows the efficient use of system resources."
   ]
  },
  {
   "cell_type": "markdown",
   "id": "d448245a-a331-45b5-886d-d84886010602",
   "metadata": {},
   "source": [
    "14. What is the role of try and except in exception handling?\n",
    "\n",
    "Answer:\n",
    "\n",
    "**try: Wraps code that might raise an error\n",
    "\n",
    "**except: Catches and handles the error\n",
    "\n"
   ]
  },
  {
   "cell_type": "markdown",
   "id": "94844059-600c-47ed-b227-923fe3609e7b",
   "metadata": {},
   "source": [
    "15. How does Python's garbage collection system work?\n",
    "\n",
    "Answer:\n",
    "\n",
    "Uses reference counting to track object usage\n",
    "\n",
    "When count reaches 0, object is deleted\n",
    "\n",
    "Also uses a cyclic garbage collector for unreachable cyclic references\n",
    "\n"
   ]
  },
  {
   "cell_type": "markdown",
   "id": "39a0609c-ec98-4eb8-a09d-bea2a136ffdb",
   "metadata": {},
   "source": [
    "16. What is the purpose of the else block in exception handling?\n",
    "\n",
    "Answer:\n",
    "The else block runs only if no exceptions occur in the try block.\n",
    "\n"
   ]
  },
  {
   "cell_type": "markdown",
   "id": "ffd651c8-f781-4b25-864a-ae3a43f63a2c",
   "metadata": {},
   "source": [
    "17. What are the common logging levels in Python?\n",
    "\n",
    "Answer:\n",
    "\n",
    "DEBUG – Detailed info\n",
    "\n",
    "INFO – General info\n",
    "\n",
    "WARNING – Something unexpected\n",
    "\n",
    "ERROR – Major problem\n",
    "\n",
    "CRITICAL – Program crash or system error"
   ]
  },
  {
   "cell_type": "markdown",
   "id": "3c4b41da-1ca7-481c-a1a9-8417eee652e0",
   "metadata": {},
   "source": [
    "18. What is the difference between os.fork() and multiprocessing in Python?\n",
    "\n",
    "Answer:\n",
    "\n",
    "os.fork() is low-level and Unix-only\n",
    "\n",
    "multiprocessing is a high-level, cross-platform module for process creation\n",
    "\n"
   ]
  },
  {
   "cell_type": "markdown",
   "id": "cc57d9db-c0f4-4280-abf7-78c35901f9f4",
   "metadata": {},
   "source": [
    "19. What is the importance of closing a file in Python?\n",
    "\n",
    "Answer:\n",
    "Closing a file:\n",
    "\n",
    "Frees up system resources\n",
    "\n",
    "Ensures data is saved (flushes buffer)\n",
    "\n",
    "Prevents data corruption"
   ]
  },
  {
   "cell_type": "markdown",
   "id": "8f96f59b-7a6f-403e-984f-7f2e51b9f6f9",
   "metadata": {},
   "source": [
    "20. What is the difference between file.read() and file.readline()?\n",
    "\n",
    "Answer:\n",
    "\n",
    "read(): Reads the entire file as one string\n",
    "\n",
    "readline(): Reads the next line from the file\n",
    "\n"
   ]
  },
  {
   "cell_type": "markdown",
   "id": "8d08c254-86f6-4f68-a213-517a4ba9fe03",
   "metadata": {},
   "source": [
    "21. What is the logging module in Python used for?\n",
    "\n",
    "Answer:\n",
    "It allows you to generate logs at various severity levels, write logs to files, and track the flow of the application.\n",
    "\n"
   ]
  },
  {
   "cell_type": "markdown",
   "id": "c2564176-76ab-40b0-a411-e8751654a10b",
   "metadata": {},
   "source": [
    "22. What is the os module in Python used for in file handling?\n",
    "\n",
    "Answer:\n",
    "The os module helps in interacting with the operating system—managing files, directories, and environment variables.\n",
    "\n"
   ]
  },
  {
   "cell_type": "markdown",
   "id": "44407711-ec2c-4cd9-bc38-ec45315298da",
   "metadata": {},
   "source": [
    "23. What are the challenges associated with memory management in Python?\n",
    "\n",
    "Answer:\n",
    "\n",
    "Managing large objects\n",
    "\n",
    "Handling circular references\n",
    "\n",
    "Overhead from dynamic typing\n",
    "\n",
    "Memory leaks from poor coding patterns\n",
    "\n"
   ]
  },
  {
   "cell_type": "markdown",
   "id": "a69f6619-53fb-495b-b2cd-899d3121fc5c",
   "metadata": {},
   "source": [
    "24. How do you raise an exception manually in Python?\n",
    "\n",
    "Answer:\n",
    "Use the raise keyword:\n",
    "\n",
    "raise ValueError(\"Invalid input\")\n"
   ]
  },
  {
   "cell_type": "markdown",
   "id": "dbfdee93-887b-4761-b087-12d0d62b7008",
   "metadata": {},
   "source": [
    "25. Why is it important to use multithreading in certain applications?\n",
    "\n",
    "Answer:\n",
    "Multithreading improves performance in I/O-bound tasks like downloading, reading/writing files, and handling multiple users (e.g., web servers).\n"
   ]
  },
  {
   "cell_type": "markdown",
   "id": "84b30540-4cc0-431d-b605-8ded5a938331",
   "metadata": {},
   "source": [
    "# Practical Questions"
   ]
  },
  {
   "cell_type": "markdown",
   "id": "b7b8e17f-c589-4b66-821e-8659ef6b9924",
   "metadata": {},
   "source": [
    "1 How can you open a file for writing in Python and write a string to it"
   ]
  },
  {
   "cell_type": "code",
   "execution_count": 9,
   "id": "03037d5d-083d-4f4b-acb8-9b47435f10a3",
   "metadata": {},
   "outputs": [],
   "source": [
    "with open(\"output.txt\", \"w\") as f:\n",
    "    f.write(\"Hello, this is a test.\")"
   ]
  },
  {
   "cell_type": "markdown",
   "id": "943eb1fd-1859-43b4-8ca9-048a67744fba",
   "metadata": {},
   "source": [
    "2 Write a Python program to read the contents of a file and print each line"
   ]
  },
  {
   "cell_type": "code",
   "execution_count": 10,
   "id": "eef754fa-9dc6-4c5e-a666-219c7617acf9",
   "metadata": {},
   "outputs": [
    {
     "name": "stdout",
     "output_type": "stream",
     "text": [
      "Hello, this is a test.\n"
     ]
    }
   ],
   "source": [
    "with open(\"output.txt\", \"r\") as f:\n",
    "    for line in f:\n",
    "        print(line.strip())\n"
   ]
  },
  {
   "cell_type": "markdown",
   "id": "cddac243-f994-4bb3-b7b1-3b7094512f16",
   "metadata": {},
   "source": [
    "3 How would you handle a case where the file doesn't exist while trying to open it for reading"
   ]
  },
  {
   "cell_type": "code",
   "execution_count": 11,
   "id": "22c0132d-8ad1-406c-856d-1e499234e5e9",
   "metadata": {},
   "outputs": [
    {
     "name": "stdout",
     "output_type": "stream",
     "text": [
      "The file does not exist.\n"
     ]
    }
   ],
   "source": [
    "try:\n",
    "    with open(\"nonexistent.txt\", \"r\") as f:\n",
    "        content = f.read()\n",
    "except FileNotFoundError:\n",
    "    print(\"The file does not exist.\")\n"
   ]
  },
  {
   "cell_type": "code",
   "execution_count": null,
   "id": "c6458ece-5bae-4437-ae0f-7fdb292dc91e",
   "metadata": {},
   "outputs": [],
   "source": []
  },
  {
   "cell_type": "markdown",
   "id": "b3acac90-38a8-4e22-bd54-380ed93ff964",
   "metadata": {},
   "source": [
    "4 Write a Python script that reads from one file and writes its content to another file"
   ]
  },
  {
   "cell_type": "code",
   "execution_count": 12,
   "id": "c79510e7-3412-4f35-b1fe-8791a4675218",
   "metadata": {},
   "outputs": [
    {
     "name": "stdout",
     "output_type": "stream",
     "text": [
      "Source file not found.\n"
     ]
    }
   ],
   "source": [
    "try:\n",
    "    with open(\"source.txt\", \"r\") as source:\n",
    "        content = source.read()\n",
    "    with open(\"destination.txt\", \"w\") as dest:\n",
    "        dest.write(content)\n",
    "    print(\"File copied successfully.\")\n",
    "except FileNotFoundError:\n",
    "    print(\"Source file not found.\")\n"
   ]
  },
  {
   "cell_type": "markdown",
   "id": "0b18abf0-1edd-481c-9424-6460ea21aade",
   "metadata": {},
   "source": [
    "5 How would you catch and handle division by zero error in Python"
   ]
  },
  {
   "cell_type": "code",
   "execution_count": 13,
   "id": "ab17b34e-01aa-4c8e-879d-6e4bb27fbb6b",
   "metadata": {},
   "outputs": [
    {
     "name": "stdout",
     "output_type": "stream",
     "text": [
      "Cannot divide by zero.\n"
     ]
    }
   ],
   "source": [
    "try:\n",
    "    result = 10 / 0\n",
    "except ZeroDivisionError:\n",
    "    print(\"Cannot divide by zero.\")\n"
   ]
  },
  {
   "cell_type": "markdown",
   "id": "5571b2d5-710e-479f-9fb9-a3bf93a1eb61",
   "metadata": {},
   "source": [
    "6 Write a Python program that logs an error message to a log file when a division by zero exception occurs"
   ]
  },
  {
   "cell_type": "code",
   "execution_count": 14,
   "id": "d44f991e-a840-49d2-bf81-c477c8ff64c9",
   "metadata": {},
   "outputs": [],
   "source": [
    "import logging\n",
    "\n",
    "logging.basicConfig(filename=\"app.log\", level=logging.ERROR)\n",
    "\n",
    "try:\n",
    "    result = 10 / 0\n",
    "except ZeroDivisionError as e:\n",
    "    logging.error(\"Division by zero occurred: %s\", e)\n"
   ]
  },
  {
   "cell_type": "markdown",
   "id": "02a755df-70c8-4589-b4bc-709cbed68d26",
   "metadata": {},
   "source": [
    "7 How do you log information at different levels (INFO, ERROR, WARNING) in Python using the logging module"
   ]
  },
  {
   "cell_type": "code",
   "execution_count": 15,
   "id": "8028afbf-fa57-4103-b80d-e003d7b0b795",
   "metadata": {},
   "outputs": [],
   "source": [
    "import logging\n",
    "\n",
    "logging.basicConfig(level=logging.DEBUG)\n",
    "logging.info(\"This is an info message.\")\n",
    "logging.warning(\"This is a warning message.\")\n",
    "logging.error(\"This is an error message.\")\n"
   ]
  },
  {
   "cell_type": "markdown",
   "id": "298f06dc-b14f-4693-b34d-784fdf9b0f4c",
   "metadata": {},
   "source": [
    "8 Write a program to handle a file opening error using exception handling"
   ]
  },
  {
   "cell_type": "code",
   "execution_count": 16,
   "id": "cdaf2c1f-2889-4978-b396-1226fa84b522",
   "metadata": {},
   "outputs": [
    {
     "name": "stdout",
     "output_type": "stream",
     "text": [
      "Error opening file.\n"
     ]
    }
   ],
   "source": [
    "try:\n",
    "    with open(\"somefile.txt\", \"r\") as f:\n",
    "        print(f.read())\n",
    "except IOError:\n",
    "    print(\"Error opening file.\")\n"
   ]
  },
  {
   "cell_type": "markdown",
   "id": "7bda0e84-956d-437f-912c-51291833322c",
   "metadata": {},
   "source": [
    "9 How can you read a file line by line and store its content in a list in Python"
   ]
  },
  {
   "cell_type": "code",
   "execution_count": 17,
   "id": "5597a88a-1d56-4580-a343-e4799ad10b6d",
   "metadata": {},
   "outputs": [
    {
     "name": "stdout",
     "output_type": "stream",
     "text": [
      "['Hello, this is a test.']\n"
     ]
    }
   ],
   "source": [
    "with open(\"output.txt\", \"r\") as f:\n",
    "    lines = f.readlines()\n",
    "print(lines)\n"
   ]
  },
  {
   "cell_type": "markdown",
   "id": "d1a459a5-6e81-4fc0-8f60-ed1dfa678c71",
   "metadata": {},
   "source": [
    "10 How can you append data to an existing file in Python"
   ]
  },
  {
   "cell_type": "code",
   "execution_count": 18,
   "id": "a1b36579-a0b7-47a1-a5aa-60fc9c1a7a3e",
   "metadata": {},
   "outputs": [],
   "source": [
    "with open(\"output.txt\", \"a\") as f:\n",
    "    f.write(\"\\nThis is appended text.\")\n"
   ]
  },
  {
   "cell_type": "markdown",
   "id": "03bddd85-3ade-4c20-b022-3bc5546e2c31",
   "metadata": {},
   "source": [
    "11 Write a Python program that uses a try-except block to handle an error when attempting to access a \n",
    "dictionary key that doesn't exist"
   ]
  },
  {
   "cell_type": "code",
   "execution_count": 19,
   "id": "c500f81f-22dc-4efd-8f91-174dab4e3e99",
   "metadata": {},
   "outputs": [
    {
     "name": "stdout",
     "output_type": "stream",
     "text": [
      "Key not found in dictionary.\n"
     ]
    }
   ],
   "source": [
    "data = {\"name\": \"Harsh\"}\n",
    "try:\n",
    "    print(data[\"age\"])\n",
    "except KeyError:\n",
    "    print(\"Key not found in dictionary.\")\n"
   ]
  },
  {
   "cell_type": "markdown",
   "id": "13e4d890-020e-4a18-adc4-17d681b21227",
   "metadata": {},
   "source": [
    "12 Write a program that demonstrates using multiple except blocks to handle different types of exceptions"
   ]
  },
  {
   "cell_type": "code",
   "execution_count": 20,
   "id": "3be85956-d4d8-489b-96e2-ddc87ecc8cd5",
   "metadata": {},
   "outputs": [
    {
     "name": "stdout",
     "output_type": "stream",
     "text": [
      "Invalid conversion to integer.\n"
     ]
    }
   ],
   "source": [
    "try:\n",
    "    num = int(\"abc\")\n",
    "    result = 10 / 0\n",
    "except ValueError:\n",
    "    print(\"Invalid conversion to integer.\")\n",
    "except ZeroDivisionError:\n",
    "    print(\"Division by zero error.\")\n"
   ]
  },
  {
   "cell_type": "markdown",
   "id": "f4352e52-d241-45a8-ae0e-41ea37652e9f",
   "metadata": {},
   "source": [
    "13 How would you check if a file exists before attempting to read it in Python"
   ]
  },
  {
   "cell_type": "code",
   "execution_count": 21,
   "id": "5aa04667-8f52-4ed6-8108-5a79d0290ba5",
   "metadata": {},
   "outputs": [
    {
     "name": "stdout",
     "output_type": "stream",
     "text": [
      "Hello, this is a test.\n",
      "This is appended text.\n"
     ]
    }
   ],
   "source": [
    "import os\n",
    "\n",
    "if os.path.exists(\"output.txt\"):\n",
    "    with open(\"output.txt\", \"r\") as f:\n",
    "        print(f.read())\n",
    "else:\n",
    "    print(\"File does not exist.\")\n"
   ]
  },
  {
   "cell_type": "markdown",
   "id": "221b54ad-fa66-4dc9-a1d5-dafcfd7b92a2",
   "metadata": {},
   "source": [
    "14 Write a program that uses the logging module to log both informational and error messages"
   ]
  },
  {
   "cell_type": "code",
   "execution_count": 22,
   "id": "fff708f1-31c6-488f-9331-80f91b5f2839",
   "metadata": {},
   "outputs": [],
   "source": [
    "import logging\n",
    "\n",
    "logging.basicConfig(filename=\"logfile.log\", level=logging.DEBUG)\n",
    "logging.info(\"Program started.\")\n",
    "try:\n",
    "    result = 10 / 0\n",
    "except ZeroDivisionError as e:\n",
    "    logging.error(\"An error occurred: %s\", e)\n"
   ]
  },
  {
   "cell_type": "markdown",
   "id": "37bca2b3-1dca-4fb8-a341-4a32871a6c29",
   "metadata": {},
   "source": [
    "15 Write a Python program that prints the content of a file and handles the case when the file is empty"
   ]
  },
  {
   "cell_type": "code",
   "execution_count": 23,
   "id": "c04a2fc6-8350-4aab-a1d8-f91b330b6a5f",
   "metadata": {},
   "outputs": [
    {
     "name": "stdout",
     "output_type": "stream",
     "text": [
      "Hello, this is a test.\n",
      "This is appended text.\n"
     ]
    }
   ],
   "source": [
    "with open(\"output.txt\", \"r\") as f:\n",
    "    content = f.read()\n",
    "    if content:\n",
    "        print(content)\n",
    "    else:\n",
    "        print(\"File is empty.\")\n"
   ]
  },
  {
   "cell_type": "markdown",
   "id": "d1f57e5a-c278-46aa-85f5-3c60b4e969f8",
   "metadata": {},
   "source": [
    "16 Demonstrate how to use memory profiling to check the memory usage of a small program"
   ]
  },
  {
   "cell_type": "code",
   "execution_count": 39,
   "id": "6d830869-b4eb-4c8b-9ab9-89ba333a556f",
   "metadata": {},
   "outputs": [
    {
     "ename": "SyntaxError",
     "evalue": "invalid syntax (1086617163.py, line 1)",
     "output_type": "error",
     "traceback": [
      "\u001b[1;36m  Cell \u001b[1;32mIn[39], line 1\u001b[1;36m\u001b[0m\n\u001b[1;33m    pip install memory-profiler\u001b[0m\n\u001b[1;37m        ^\u001b[0m\n\u001b[1;31mSyntaxError\u001b[0m\u001b[1;31m:\u001b[0m invalid syntax\n"
     ]
    }
   ],
   "source": [
    "pip install memory-profiler\n",
    "\n",
    "from memory_profiler import profile\n",
    "\n",
    "@profile\n",
    "def test_memory():\n",
    "    a = [i * 2 for i in range(100000)]\n",
    "    return a\n",
    "\n",
    "if __name__ == \"__main__\":\n",
    "    test_memory()\n"
   ]
  },
  {
   "cell_type": "markdown",
   "id": "a7edef18-a23b-4b41-9220-185561124962",
   "metadata": {},
   "source": [
    "17 Write a Python program to create and write a list of numbers to a file, one number per line"
   ]
  },
  {
   "cell_type": "code",
   "execution_count": null,
   "id": "6d343ce6-9db9-438d-998f-2ed8fe74e85d",
   "metadata": {},
   "outputs": [],
   "source": [
    "numbers = [1, 2, 3, 4, 5]\n",
    "with open(\"numbers.txt\", \"w\") as f:\n",
    "    for number in numbers:\n",
    "        f.write(f\"{number}\\n\")\n"
   ]
  },
  {
   "cell_type": "markdown",
   "id": "fd63ee76-8bde-465c-949c-06eada2a3754",
   "metadata": {},
   "source": [
    "18 How would you implement a basic logging setup that logs to a file with rotation after 1MB"
   ]
  },
  {
   "cell_type": "code",
   "execution_count": 25,
   "id": "adf532df-caa4-4b0f-88bf-92cc30726688",
   "metadata": {},
   "outputs": [],
   "source": [
    "import logging\n",
    "from logging.handlers import RotatingFileHandler\n",
    "\n",
    "handler = RotatingFileHandler(\"rotate.log\", maxBytes=1048576, backupCount=3)\n",
    "logging.basicConfig(handlers=[handler], level=logging.INFO)\n",
    "logging.info(\"Logging with rotation.\")\n"
   ]
  },
  {
   "cell_type": "markdown",
   "id": "251e3e1d-ab05-40b7-92d9-d6d879150253",
   "metadata": {},
   "source": [
    "19 Write a program that handles both IndexError and KeyError using a try-except block"
   ]
  },
  {
   "cell_type": "code",
   "execution_count": 26,
   "id": "90074fa9-6ff7-44c1-8767-719b69dcc2a4",
   "metadata": {},
   "outputs": [
    {
     "name": "stdout",
     "output_type": "stream",
     "text": [
      "IndexError occurred.\n"
     ]
    }
   ],
   "source": [
    "try:\n",
    "    lst = [1, 2]\n",
    "    print(lst[5])\n",
    "    dct = {}\n",
    "    print(dct[\"key\"])\n",
    "except IndexError:\n",
    "    print(\"IndexError occurred.\")\n",
    "except KeyError:\n",
    "    print(\"KeyError occurred.\")\n"
   ]
  },
  {
   "cell_type": "markdown",
   "id": "818024ef-9cc1-404b-95cc-5fdad25fc8cb",
   "metadata": {},
   "source": [
    "20. How would you open a file and read its contents using a context manager in Python?"
   ]
  },
  {
   "cell_type": "code",
   "execution_count": 36,
   "id": "d9a488c7-326a-4d46-88d7-e9c0aae1315c",
   "metadata": {},
   "outputs": [
    {
     "name": "stdout",
     "output_type": "stream",
     "text": [
      "Hello, this is a test.\n",
      "This is appended text.\n"
     ]
    }
   ],
   "source": [
    "with open(\"output.txt\", \"r\") as f:\n",
    "    print(f.read())\n"
   ]
  },
  {
   "cell_type": "markdown",
   "id": "0c520e71-9bb6-443a-8335-73aa5e84edcd",
   "metadata": {},
   "source": [
    "21 Write a Python program that reads a file and prints the number of occurrences of a specific word"
   ]
  },
  {
   "cell_type": "code",
   "execution_count": 29,
   "id": "37680692-bb1c-4819-ba9c-d3471f1d12b4",
   "metadata": {},
   "outputs": [
    {
     "name": "stdout",
     "output_type": "stream",
     "text": [
      "'test' found 1 times.\n"
     ]
    }
   ],
   "source": [
    "word_to_count = \"test\"\n",
    "with open(\"output.txt\", \"r\") as f:\n",
    "    content = f.read()\n",
    "    count = content.count(word_to_count)\n",
    "    print(f\"'{word_to_count}' found {count} times.\")\n"
   ]
  },
  {
   "cell_type": "markdown",
   "id": "66ed3f12-c4ec-4c44-81ba-16a31d7f20a4",
   "metadata": {},
   "source": [
    "22 How can you check if a file is empty before attempting to read its contents"
   ]
  },
  {
   "cell_type": "code",
   "execution_count": 30,
   "id": "43b3a1c6-8435-40fe-8e3a-3de6cab442f8",
   "metadata": {},
   "outputs": [
    {
     "name": "stdout",
     "output_type": "stream",
     "text": [
      "Hello, this is a test.\n",
      "This is appended text.\n"
     ]
    }
   ],
   "source": [
    "import os\n",
    "\n",
    "if os.path.getsize(\"output.txt\") == 0:\n",
    "    print(\"File is empty.\")\n",
    "else:\n",
    "    with open(\"output.txt\", \"r\") as f:\n",
    "        print(f.read())\n"
   ]
  },
  {
   "cell_type": "markdown",
   "id": "1d4ab7d4-de32-488e-bdae-8149d3475399",
   "metadata": {},
   "source": [
    "23 Write a Python program that writes to a log file when an error occurs during file handling"
   ]
  },
  {
   "cell_type": "code",
   "execution_count": 31,
   "id": "059f89c7-87a5-40d3-8c81-490b34e5c633",
   "metadata": {},
   "outputs": [],
   "source": [
    "import logging\n",
    "\n",
    "logging.basicConfig(filename=\"file_errors.log\", level=logging.ERROR)\n",
    "\n",
    "try:\n",
    "    with open(\"missing.txt\", \"r\") as f:\n",
    "        print(f.read())\n",
    "except FileNotFoundError as e:\n",
    "    logging.error(\"Error reading file: %s\", e)\n"
   ]
  },
  {
   "cell_type": "markdown",
   "id": "9c773d24-434e-4125-b63f-6c47273ec768",
   "metadata": {},
   "source": []
  },
  {
   "cell_type": "code",
   "execution_count": null,
   "id": "e9ce77e4-de95-4a4b-a902-96ce90b2e12d",
   "metadata": {},
   "outputs": [],
   "source": []
  },
  {
   "cell_type": "markdown",
   "id": "71e15cfc-e07c-43a2-83e1-8f58c16a5c1e",
   "metadata": {},
   "source": []
  },
  {
   "cell_type": "code",
   "execution_count": null,
   "id": "a2a9fd8f-aded-4f99-a0b3-5cb4ace8eba0",
   "metadata": {},
   "outputs": [],
   "source": []
  },
  {
   "cell_type": "code",
   "execution_count": null,
   "id": "1463baea-739f-4b32-b1a8-c2066de5cde9",
   "metadata": {},
   "outputs": [],
   "source": []
  },
  {
   "cell_type": "code",
   "execution_count": null,
   "id": "4957f887-3e7f-4b09-b875-c3baad405de0",
   "metadata": {},
   "outputs": [],
   "source": []
  },
  {
   "cell_type": "code",
   "execution_count": null,
   "id": "ca127dc6-4d8b-4476-ab0e-2052e9abcb9a",
   "metadata": {},
   "outputs": [],
   "source": []
  },
  {
   "cell_type": "code",
   "execution_count": null,
   "id": "3ff26989-a100-4c0a-ba36-02bc605600ec",
   "metadata": {},
   "outputs": [],
   "source": []
  },
  {
   "cell_type": "code",
   "execution_count": null,
   "id": "eece6501-7376-4b54-b83f-ed48729d9f72",
   "metadata": {},
   "outputs": [],
   "source": []
  },
  {
   "cell_type": "code",
   "execution_count": null,
   "id": "7a779290-31ed-44bd-86e7-b9e41aa84d0a",
   "metadata": {},
   "outputs": [],
   "source": []
  },
  {
   "cell_type": "code",
   "execution_count": null,
   "id": "6f9144ab-ec40-4bbb-a246-3eb7e185e2ec",
   "metadata": {},
   "outputs": [],
   "source": []
  },
  {
   "cell_type": "code",
   "execution_count": null,
   "id": "b6f45026-b45d-44c6-9c97-fe9ab254c4f9",
   "metadata": {},
   "outputs": [],
   "source": []
  },
  {
   "cell_type": "code",
   "execution_count": null,
   "id": "d390bb97-b6b2-45a3-bbbf-b65eb0735aef",
   "metadata": {},
   "outputs": [],
   "source": []
  },
  {
   "cell_type": "code",
   "execution_count": null,
   "id": "475d3415-18d8-41e4-923f-9e15234de141",
   "metadata": {},
   "outputs": [],
   "source": []
  },
  {
   "cell_type": "code",
   "execution_count": null,
   "id": "53b824ed-b6f4-409d-9107-623a94436207",
   "metadata": {},
   "outputs": [],
   "source": []
  },
  {
   "cell_type": "code",
   "execution_count": null,
   "id": "919fa5c9-94a0-44cf-bb4e-e6a3cfd111d3",
   "metadata": {},
   "outputs": [],
   "source": []
  },
  {
   "cell_type": "code",
   "execution_count": null,
   "id": "5583accf-a11b-491a-b8e1-8c07478753f5",
   "metadata": {},
   "outputs": [],
   "source": []
  },
  {
   "cell_type": "code",
   "execution_count": null,
   "id": "235fb418-582a-47eb-b292-f20a1436b0ae",
   "metadata": {},
   "outputs": [],
   "source": []
  },
  {
   "cell_type": "code",
   "execution_count": null,
   "id": "51eee5e1-7c94-4a11-a714-56b8de36daed",
   "metadata": {},
   "outputs": [],
   "source": []
  },
  {
   "cell_type": "code",
   "execution_count": null,
   "id": "c1776b51-dbfd-4d20-a99c-76e82eaeff9d",
   "metadata": {},
   "outputs": [],
   "source": []
  },
  {
   "cell_type": "code",
   "execution_count": null,
   "id": "ab73b5c0-ad40-4ad3-a173-245e859a3425",
   "metadata": {},
   "outputs": [],
   "source": []
  },
  {
   "cell_type": "code",
   "execution_count": null,
   "id": "492ba9f0-10b3-4c29-9ecb-6502434e0b09",
   "metadata": {},
   "outputs": [],
   "source": []
  },
  {
   "cell_type": "code",
   "execution_count": null,
   "id": "5c633adb-7e34-4a3e-9cd7-737457250d57",
   "metadata": {},
   "outputs": [],
   "source": []
  },
  {
   "cell_type": "code",
   "execution_count": null,
   "id": "0df1a0b9-82d4-486f-9b69-d95c04ec3e75",
   "metadata": {},
   "outputs": [],
   "source": []
  },
  {
   "cell_type": "code",
   "execution_count": null,
   "id": "ce0eff31-3e5c-4f0a-b6b7-f3f10e4798d7",
   "metadata": {},
   "outputs": [],
   "source": []
  },
  {
   "cell_type": "code",
   "execution_count": null,
   "id": "d130d675-3f55-438a-a20a-e43d1381e609",
   "metadata": {},
   "outputs": [],
   "source": []
  },
  {
   "cell_type": "code",
   "execution_count": null,
   "id": "c3128018-a10e-4490-acfa-280db1f2a413",
   "metadata": {},
   "outputs": [],
   "source": []
  },
  {
   "cell_type": "code",
   "execution_count": null,
   "id": "e7bf8258-20b3-4a77-bbff-834ec0aaf514",
   "metadata": {},
   "outputs": [],
   "source": []
  },
  {
   "cell_type": "code",
   "execution_count": null,
   "id": "3512b876-5be7-40da-8fd4-6dd1e59bfcae",
   "metadata": {},
   "outputs": [],
   "source": []
  },
  {
   "cell_type": "code",
   "execution_count": null,
   "id": "35ae8fcb-8845-4fb6-b72a-6397968750b5",
   "metadata": {},
   "outputs": [],
   "source": []
  },
  {
   "cell_type": "code",
   "execution_count": null,
   "id": "a15531b4-ab68-454d-98a0-090b8e219391",
   "metadata": {},
   "outputs": [],
   "source": []
  },
  {
   "cell_type": "code",
   "execution_count": null,
   "id": "94fe054b-f036-48e9-9525-9efc78668816",
   "metadata": {},
   "outputs": [],
   "source": []
  },
  {
   "cell_type": "code",
   "execution_count": null,
   "id": "73c159b1-daa2-49d6-879a-67437156bb3b",
   "metadata": {},
   "outputs": [],
   "source": []
  },
  {
   "cell_type": "code",
   "execution_count": null,
   "id": "c2db5e50-94f9-47b5-96a7-a205471e2590",
   "metadata": {},
   "outputs": [],
   "source": []
  },
  {
   "cell_type": "code",
   "execution_count": null,
   "id": "15057ed0-6869-4012-96af-661ad628e4cd",
   "metadata": {},
   "outputs": [],
   "source": []
  },
  {
   "cell_type": "code",
   "execution_count": null,
   "id": "e1eb7170-ff45-4e8b-8ca1-7f86ae7e5236",
   "metadata": {},
   "outputs": [],
   "source": []
  },
  {
   "cell_type": "code",
   "execution_count": null,
   "id": "51c9ef6a-1859-423c-be9e-d3aedf09d61f",
   "metadata": {},
   "outputs": [],
   "source": []
  },
  {
   "cell_type": "code",
   "execution_count": null,
   "id": "7ee235e7-0892-42dc-8fb2-209fa5534386",
   "metadata": {},
   "outputs": [],
   "source": []
  },
  {
   "cell_type": "code",
   "execution_count": null,
   "id": "7806af50-8be1-4e73-b862-44fc21f7accb",
   "metadata": {},
   "outputs": [],
   "source": []
  },
  {
   "cell_type": "code",
   "execution_count": null,
   "id": "c46e3e68-c160-47a0-a7ae-69596ee127d6",
   "metadata": {},
   "outputs": [],
   "source": []
  },
  {
   "cell_type": "code",
   "execution_count": null,
   "id": "da149d30-e22d-40a9-bd59-82f1fac8af91",
   "metadata": {},
   "outputs": [],
   "source": []
  },
  {
   "cell_type": "code",
   "execution_count": null,
   "id": "0807f31c-14e3-4788-93fe-3623d9ac27ed",
   "metadata": {},
   "outputs": [],
   "source": []
  },
  {
   "cell_type": "code",
   "execution_count": null,
   "id": "a1175791-836a-48ac-b3e0-04357fb1b5b9",
   "metadata": {},
   "outputs": [],
   "source": []
  },
  {
   "cell_type": "code",
   "execution_count": null,
   "id": "fa8f3e71-3f1e-4d8e-94c2-78510cd49e36",
   "metadata": {},
   "outputs": [],
   "source": []
  },
  {
   "cell_type": "code",
   "execution_count": null,
   "id": "ba9ea6e7-419f-4414-8095-21707d63b032",
   "metadata": {},
   "outputs": [],
   "source": []
  },
  {
   "cell_type": "code",
   "execution_count": null,
   "id": "e2e5a52a-7040-44c4-a1eb-ec6585a56a45",
   "metadata": {},
   "outputs": [],
   "source": []
  },
  {
   "cell_type": "code",
   "execution_count": null,
   "id": "6dcbfb35-4e4e-4635-9a0c-3a098096fcac",
   "metadata": {},
   "outputs": [],
   "source": []
  },
  {
   "cell_type": "code",
   "execution_count": null,
   "id": "24e5ba53-2e93-4123-aad0-c42362f43af9",
   "metadata": {},
   "outputs": [],
   "source": []
  },
  {
   "cell_type": "code",
   "execution_count": null,
   "id": "848b4985-0162-4b1c-86d2-16ecebef1506",
   "metadata": {},
   "outputs": [],
   "source": []
  },
  {
   "cell_type": "code",
   "execution_count": null,
   "id": "2a9da470-ce29-4367-a9b0-a33f9913caf8",
   "metadata": {},
   "outputs": [],
   "source": []
  },
  {
   "cell_type": "code",
   "execution_count": null,
   "id": "c761b856-9718-422a-8dd1-276097e050bc",
   "metadata": {},
   "outputs": [],
   "source": []
  },
  {
   "cell_type": "code",
   "execution_count": null,
   "id": "7762ef6d-b749-496e-a168-08dfc7f9703b",
   "metadata": {},
   "outputs": [],
   "source": []
  },
  {
   "cell_type": "code",
   "execution_count": null,
   "id": "7847566c-b50c-4486-b8f5-9fcdc6714c91",
   "metadata": {},
   "outputs": [],
   "source": []
  },
  {
   "cell_type": "code",
   "execution_count": null,
   "id": "4e5a1236-59df-48c8-96ec-3fa6a642f8cf",
   "metadata": {},
   "outputs": [],
   "source": []
  },
  {
   "cell_type": "code",
   "execution_count": null,
   "id": "6c64510d-26fe-462f-8205-481203c1243b",
   "metadata": {},
   "outputs": [],
   "source": []
  },
  {
   "cell_type": "code",
   "execution_count": null,
   "id": "7d8e17fd-53ca-4744-b39e-b1c6c8a4dd7f",
   "metadata": {},
   "outputs": [],
   "source": []
  },
  {
   "cell_type": "code",
   "execution_count": null,
   "id": "2c2c9ae5-23f6-47e1-a97d-5cdb8cf8af14",
   "metadata": {},
   "outputs": [],
   "source": []
  },
  {
   "cell_type": "code",
   "execution_count": null,
   "id": "2828312b-3805-4fe3-8738-64ec5bcce75a",
   "metadata": {},
   "outputs": [],
   "source": []
  }
 ],
 "metadata": {
  "kernelspec": {
   "display_name": "Python 3 (ipykernel)",
   "language": "python",
   "name": "python3"
  },
  "language_info": {
   "codemirror_mode": {
    "name": "ipython",
    "version": 3
   },
   "file_extension": ".py",
   "mimetype": "text/x-python",
   "name": "python",
   "nbconvert_exporter": "python",
   "pygments_lexer": "ipython3",
   "version": "3.12.7"
  }
 },
 "nbformat": 4,
 "nbformat_minor": 5
}
