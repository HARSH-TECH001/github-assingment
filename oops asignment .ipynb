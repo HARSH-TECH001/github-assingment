{
 "cells": [
  {
   "cell_type": "markdown",
   "id": "57102bff-6913-4a9f-902a-bad6171995cd",
   "metadata": {},
   "source": [
    "# Python OOPs Questions"
   ]
  },
  {
   "cell_type": "markdown",
   "id": "b08f53a4-209d-432e-9154-25f65ff8e64b",
   "metadata": {},
   "source": [
    "1. What is Object-Oriented Programming (OOP)?\n",
    "\n",
    "answer:- OOP is a way of writing programs using real-world concepts like objects and classes. It helps to structure code in a better way, especially for large projects, by making it more reusable and easier to manage."
   ]
  },
  {
   "cell_type": "markdown",
   "id": "b98668ad-307b-4a05-8d5f-5c420f738dbf",
   "metadata": {},
   "source": [
    "2. What is a class in OOP?\n",
    "\n",
    "Answer:- A class is like a blueprint or template that defines how objects should be. It contains properties (variables) and methods (functions) that describe the behavior of the objects created from it."
   ]
  },
  {
   "cell_type": "markdown",
   "id": "0131578c-5183-4534-b599-6019ef3c154b",
   "metadata": {},
   "source": [
    "3. What is an object in OOP?\n",
    "\n",
    "Answer:- An object is an actual instance created from a class. It represents a real thing in code and can use the properties and methods defined in the class."
   ]
  },
  {
   "cell_type": "markdown",
   "id": "5a4c7ca2-2748-42eb-a7c4-804805c7da0a",
   "metadata": {},
   "source": [
    "4. What is the difference between abstraction and encapsulation?\n",
    "\n",
    "Answer:-Abstraction hides the unnecessary details and only shows what’s needed. Encapsulation means wrapping data and methods together so that data is protected and not directly accessible from outside."
   ]
  },
  {
   "cell_type": "markdown",
   "id": "ea9269e7-b0c8-4041-902e-3aa32845383b",
   "metadata": {},
   "source": [
    "5. What are dunder methods in Python?\n",
    "\n",
    "Answer:-Dunder methods (like __init__, __str__, etc.) are special methods that start and end with double underscores. They allow us to define how objects behave with built-in Python operations like printing, adding, or comparing."
   ]
  },
  {
   "cell_type": "markdown",
   "id": "8d36d4ec-31d8-48c6-863a-eef8963f1dca",
   "metadata": {},
   "source": [
    "6. Explain the concept of inheritance in OOP.\n",
    "\n",
    "Answer:-Inheritance means one class can take the properties and methods of another class. This helps avoid repeating code and makes it easier to build on existing classes"
   ]
  },
  {
   "cell_type": "markdown",
   "id": "00a2716a-2d33-4537-a81f-be9e9daec0d2",
   "metadata": {},
   "source": [
    "7. What is polymorphism in OOP?\n",
    "\n",
    "Answer:-Polymorphism allows the same method to behave differently based on the object or class using it. It adds flexibility to the code."
   ]
  },
  {
   "cell_type": "markdown",
   "id": "7bd663c6-04d1-422e-af7e-28681424abdf",
   "metadata": {},
   "source": [
    "8. How is encapsulation achieved in Python?\n",
    "\n",
    "Answer:-Encapsulation in Python is done by using private variables (with _ or __) and providing getter and setter methods to access or change the data safely."
   ]
  },
  {
   "cell_type": "markdown",
   "id": "80224797-96c4-45e0-8fde-66b9ef08388f",
   "metadata": {},
   "source": [
    "9. What is a constructor in Python?\n",
    "\n",
    "Answer:-A constructor is a special method called __init__() that runs automatically when we create an object. It helps to initialize values for the object"
   ]
  },
  {
   "cell_type": "markdown",
   "id": "0e5068ee-06c6-4b53-8fea-ad9939105e0f",
   "metadata": {},
   "source": [
    "10. What are class and static methods in Python?\n",
    "\n",
    "Answer:- Class methods use @classmethod and take cls as a parameter. They can access or modify class-level data.\n",
    "\n",
    "Static methods use @staticmethod and don’t take self or cls. They are like regular functions inside the class."
   ]
  },
  {
   "cell_type": "markdown",
   "id": "366e5704-78f7-4442-bbf1-fb637a5aa609",
   "metadata": {},
   "source": [
    "11. What is method overloading in Python?\n",
    "\n",
    "Answer:-Python doesn’t support method overloading directly like other languages, but we can achieve similar results by using default or variable arguments."
   ]
  },
  {
   "cell_type": "markdown",
   "id": "8a00da7a-59ce-428e-9cc2-f43a9d45297a",
   "metadata": {},
   "source": [
    "12. What is method overriding in OOP?\n",
    "\n",
    "Answer:-Method overriding means writing a method in a child class with the same name as the one in the parent class, to change or extend its behavior."
   ]
  },
  {
   "cell_type": "markdown",
   "id": "282fab43-f5aa-4851-beab-aca6901670f2",
   "metadata": {},
   "source": [
    "13. What is a property decorator in Python?\n",
    "\n",
    "Answer:-The @property decorator is used to define methods that we can access like attributes. It makes our code cleaner when dealing with getters."
   ]
  },
  {
   "cell_type": "markdown",
   "id": "d1d67496-8c46-4d2f-8920-da8ea57801a6",
   "metadata": {},
   "source": [
    "14. Why is polymorphism important in OOP?\n",
    "\n",
    "Answer:-Polymorphism makes our code more flexible and reusable because we can use the same interface or method name for different types of objects."
   ]
  },
  {
   "cell_type": "markdown",
   "id": "1069761e-7d5d-4376-aa83-02c57779eb00",
   "metadata": {},
   "source": [
    "15. What is an abstract class in Python?\n",
    "\n",
    "Answer:- An abstract class is a class that can’t be used to create objects directly. It’s meant to be inherited and usually contains abstract methods that must be defined in child classes."
   ]
  },
  {
   "cell_type": "markdown",
   "id": "1d27a986-c832-4ced-b86d-a6122483d142",
   "metadata": {},
   "source": [
    "16. What are the advantages of OOP?\n",
    "\n",
    "Answer:- OOP makes code more organized, reusable, easier to manage, and closer to real-world thinking. It helps with teamwork and maintenance in large projects."
   ]
  },
  {
   "cell_type": "markdown",
   "id": "05a60931-a838-4368-8f5a-41b34458b459",
   "metadata": {},
   "source": [
    "17. What is multiple inheritance in Python?\n",
    "\n",
    "Answer:- Multiple inheritance means a class can inherit from more than one parent class. It gives access to multiple sets of properties and methods."
   ]
  },
  {
   "cell_type": "markdown",
   "id": "4707f0a2-c772-43f9-b387-4dbd7783a02d",
   "metadata": {},
   "source": [
    "18. What is the difference between a class variable and an instance variable?\n",
    "\n",
    "Answer:- Class variables are shared by all objects of the class.\n",
    "\n",
    "Instance variables are unique to each object and defined using self."
   ]
  },
  {
   "cell_type": "markdown",
   "id": "d93e7e6c-9825-4233-973f-93de33f6e7ab",
   "metadata": {},
   "source": [
    "19. Explain the purpose of __str__ and __repr__ methods in Python?\n",
    "\n",
    "Answer:- __str__ is used to return a readable string when we print an object.\n",
    "\n",
    "__repr__ is used for the official string representation, mainly for debugging."
   ]
  },
  {
   "cell_type": "markdown",
   "id": "12dc4235-3d5c-4cad-8fe1-1a7892e36664",
   "metadata": {},
   "source": [
    "20. What is the significance of the super() function in Python?\n",
    "\n",
    "Answer:- super() is used in inheritance to call a method from the parent class, especially useful inside constructors or overridden methods."
   ]
  },
  {
   "cell_type": "markdown",
   "id": "ae1cd157-300c-4ff1-aa20-f60e2b3e3a8b",
   "metadata": {},
   "source": [
    "21. What is the significance of the __del__ method in Python?\n",
    "\n",
    "Answer:- __del__ is a destructor method that gets called when an object is about to be deleted. It can be used to free up resources."
   ]
  },
  {
   "cell_type": "markdown",
   "id": "d8b64ee0-4351-4915-a450-123e4b302589",
   "metadata": {},
   "source": [
    "22. What is the difference between @staticmethod and @classmethod in Python?\n",
    "\n",
    "Answer:- @staticmethod doesn’t access instance or class data.\n",
    "\n",
    "@classmethod takes cls and can access class-level variables and methods."
   ]
  },
  {
   "cell_type": "markdown",
   "id": "1765a270-2810-4deb-afee-e0e925d1e886",
   "metadata": {},
   "source": [
    "23. How does polymorphism work in Python with inheritance?\n",
    "\n",
    "Answer:- With inheritance, child classes can define their own version of methods, and Python will call the correct one depending on the object used — this is runtime polymorphism."
   ]
  },
  {
   "cell_type": "markdown",
   "id": "c8576c78-0232-4dce-90e2-78cae5e5e0ac",
   "metadata": {},
   "source": [
    "24. What is method chaining in Python OOP?\n",
    "\n",
    "Answer:-Method chaining means calling multiple methods one after another on the same object. It works when each method returns self."
   ]
  },
  {
   "cell_type": "markdown",
   "id": "bd229bc0-a1b9-4887-a31b-b67f672128c1",
   "metadata": {},
   "source": [
    "25. What is the purpose of the __call__ method in Python?\n",
    "\n",
    "Answer:- The __call__ method lets an object behave like a function. If we define it, we can use object() syntax to call it like a function."
   ]
  },
  {
   "cell_type": "markdown",
   "id": "dffa4467-2797-4f3e-bd4e-695645e43c47",
   "metadata": {},
   "source": [
    "# Practical Questions"
   ]
  },
  {
   "cell_type": "markdown",
   "id": "73474830-db12-4045-90ce-00309610b06c",
   "metadata": {},
   "source": [
    " 1. Create a parent class Animal with a method speak() that prints a generic message. Create a child class Dog \n",
    "that overrides the speak() method to print \"Bark!\""
   ]
  },
  {
   "cell_type": "code",
   "execution_count": 39,
   "id": "8b668916-38d7-4f07-9d97-efcb7940d9f1",
   "metadata": {},
   "outputs": [
    {
     "name": "stdout",
     "output_type": "stream",
     "text": [
      "bark!\n"
     ]
    }
   ],
   "source": [
    "class animal:\n",
    "    def speak(self):\n",
    "        print(\"this animal makes a sound\")\n",
    "class dog:\n",
    "    def speak(self):\n",
    "        print(\"bark!\")\n",
    "\n",
    "d=dog()\n",
    "d.speak()\n",
    "        "
   ]
  },
  {
   "cell_type": "markdown",
   "id": "11eded55-094c-4e5a-9018-6744375fefc2",
   "metadata": {},
   "source": [
    " 2. Write a program to create an abstract class Shape with a method area(). Derive classes Circle and Rectangle \n",
    "from it and implement the area() method in both"
   ]
  },
  {
   "cell_type": "code",
   "execution_count": 40,
   "id": "f2f7fb97-10d5-4e2f-be9d-7cdeae228ba5",
   "metadata": {},
   "outputs": [
    {
     "name": "stdout",
     "output_type": "stream",
     "text": [
      "78.53981633974483\n",
      "24\n"
     ]
    }
   ],
   "source": [
    "from abc import ABC, abstractmethod\n",
    "import math\n",
    "class shape():\n",
    "    @abstractmethod\n",
    "    def area(self):\n",
    "        pass\n",
    "class circle(shape):\n",
    "    def __init__(self,radius):\n",
    "        self.radius=radius\n",
    "    def area(self):\n",
    "        return math.pi*self.radius**2\n",
    "class rectangle(shape):\n",
    "    def __init__(self,length,width):\n",
    "        self.length=length\n",
    "        self.width=width\n",
    "    def area(self):\n",
    "        return self.length*self.width\n",
    "\n",
    "c=circle(5)\n",
    "print(c.area())\n",
    "\n",
    "r=rectangle(4,6)\n",
    "print(r.area())"
   ]
  },
  {
   "cell_type": "markdown",
   "id": "93138d5c-643d-40cc-9c0d-65fd152eed24",
   "metadata": {},
   "source": [
    " 3. Implement a multi-level inheritance scenario where a class Vehicle has an attribute type. Derive a class Car \n",
    "and further derive a class ElectricCar that adds a battery attribute."
   ]
  },
  {
   "cell_type": "code",
   "execution_count": 41,
   "id": "5676b0c1-bf22-4d23-bd8b-db058df88fa0",
   "metadata": {},
   "outputs": [
    {
     "name": "stdout",
     "output_type": "stream",
     "text": [
      "Vehicle\n",
      "Tesla\n",
      "100 kWh\n"
     ]
    }
   ],
   "source": [
    "class Vehicle:\n",
    "    def __init__(self, vtype):\n",
    "        self.type = vtype\n",
    "\n",
    "class Car(Vehicle):\n",
    "    def __init__(self, vtype, brand):\n",
    "        super().__init__(vtype)\n",
    "        self.brand = brand\n",
    "\n",
    "class ElectricCar(Car):\n",
    "    def __init__(self, vtype, brand, battery):\n",
    "        super().__init__(vtype, brand)\n",
    "        self.battery = battery\n",
    "\n",
    "# Example:\n",
    "ecar = ElectricCar(\"Vehicle\", \"Tesla\", \"100 kWh\")\n",
    "print(ecar.type)     # Vehicle\n",
    "print(ecar.brand)    # Tesla\n",
    "print(ecar.battery)  # 100 kWh\n"
   ]
  },
  {
   "cell_type": "markdown",
   "id": "b6a319b5-3ee0-4f98-a396-e82e59de35f4",
   "metadata": {},
   "source": [
    " 4. Demonstrate polymorphism by creating a base class Bird with a method fly(). Create two derived classes \n",
    "Sparrow and Penguin that override the fly() method."
   ]
  },
  {
   "cell_type": "code",
   "execution_count": 42,
   "id": "8f67c25a-53d0-4960-9a4f-c3684353f5a4",
   "metadata": {},
   "outputs": [
    {
     "name": "stdout",
     "output_type": "stream",
     "text": [
      "Some birds can fly.\n",
      "Sparrow flies high.\n",
      "Penguins cannot fly.\n"
     ]
    }
   ],
   "source": [
    "class Bird:\n",
    "    def fly(self):\n",
    "        print(\"Some birds can fly.\")\n",
    "\n",
    "class Sparrow(Bird):\n",
    "    def fly(self):\n",
    "        print(\"Sparrow flies high.\")\n",
    "\n",
    "class Penguin(Bird):\n",
    "    def fly(self):\n",
    "        print(\"Penguins cannot fly.\")\n",
    "\n",
    "# Example:\n",
    "b = Bird()\n",
    "b.fly()  # Some birds can fly.\n",
    "\n",
    "s = Sparrow()\n",
    "s.fly()  # Sparrow flies high.\n",
    "\n",
    "p = Penguin()\n",
    "p.fly()  # Penguins cannot fly.\n"
   ]
  },
  {
   "cell_type": "markdown",
   "id": "dfbbdaa2-9960-48bc-895a-a431f963bf71",
   "metadata": {},
   "source": [
    "5. Write a program to demonstrate encapsulation by creating a class BankAccount with private attributes \n",
    "balance and methods to deposit, withdraw, and check balance"
   ]
  },
  {
   "cell_type": "code",
   "execution_count": 43,
   "id": "9aa3f8ba-ce35-4871-9beb-45dae3772623",
   "metadata": {},
   "outputs": [
    {
     "name": "stdout",
     "output_type": "stream",
     "text": [
      "Deposited: 1000\n",
      "Withdrawn: 500\n",
      "500\n"
     ]
    }
   ],
   "source": [
    "class BankAccount:\n",
    "    def __init__(self):\n",
    "        self.__balance = 0\n",
    "\n",
    "    def deposit(self, amount):\n",
    "        if amount > 0:\n",
    "            self.__balance += amount\n",
    "            print(f\"Deposited: {amount}\")\n",
    "        else:\n",
    "            print(\"Invalid deposit amount\")\n",
    "\n",
    "    def withdraw(self, amount):\n",
    "        if 0 < amount <= self.__balance:\n",
    "            self.__balance -= amount\n",
    "            print(f\"Withdrawn: {amount}\")\n",
    "        else:\n",
    "            print(\"Invalid or insufficient balance\")\n",
    "\n",
    "    def check_balance(self):\n",
    "        return self.__balance\n",
    "\n",
    "# Example:\n",
    "account = BankAccount()\n",
    "account.deposit(1000)\n",
    "account.withdraw(500)\n",
    "print(account.check_balance())  # 500\n"
   ]
  },
  {
   "cell_type": "markdown",
   "id": "c12a90fd-5f8c-452a-aa63-d63011f6da31",
   "metadata": {},
   "source": [
    " 6. Demonstrate runtime polymorphism using a method play() in a base class Instrument. Derive classes Guitar \n",
    "and Piano that implement their own version of play()"
   ]
  },
  {
   "cell_type": "code",
   "execution_count": 44,
   "id": "0ba7db8b-4ec0-401c-ab44-f3b210841d95",
   "metadata": {},
   "outputs": [
    {
     "name": "stdout",
     "output_type": "stream",
     "text": [
      "Playing guitar.\n",
      "Playing piano.\n"
     ]
    }
   ],
   "source": [
    "class Instrument:\n",
    "    def play(self):\n",
    "        print(\"Playing instrument.\")\n",
    "\n",
    "class Guitar(Instrument):\n",
    "    def play(self):\n",
    "        print(\"Playing guitar.\")\n",
    "\n",
    "class Piano(Instrument):\n",
    "    def play(self):\n",
    "        print(\"Playing piano.\")\n",
    "\n",
    "# Example:\n",
    "instruments = [Guitar(), Piano()]\n",
    "for inst in instruments:\n",
    "    inst.play()\n"
   ]
  },
  {
   "cell_type": "markdown",
   "id": "91242c66-b550-451c-abcb-ab1a0b2926d6",
   "metadata": {},
   "source": [
    " 7. Create a class MathOperations with a class method add_numbers() to add two numbers and a static \n",
    "method subtract_numbers() to subtract two numbers"
   ]
  },
  {
   "cell_type": "code",
   "execution_count": 45,
   "id": "3cb939ec-6762-4a24-bb07-114fc5980d8d",
   "metadata": {},
   "outputs": [
    {
     "name": "stdout",
     "output_type": "stream",
     "text": [
      "8\n",
      "6\n"
     ]
    }
   ],
   "source": [
    "class MathOperations:\n",
    "    @classmethod\n",
    "    def add_numbers(cls, a, b):\n",
    "        return a + b\n",
    "\n",
    "    @staticmethod\n",
    "    def subtract_numbers(a, b):\n",
    "        return a - b\n",
    "\n",
    "# Example:\n",
    "print(MathOperations.add_numbers(5, 3))       # 8\n",
    "print(MathOperations.subtract_numbers(10, 4)) # 6\n"
   ]
  },
  {
   "cell_type": "markdown",
   "id": "929d2a77-eee7-416d-acc5-0ddf35f135f6",
   "metadata": {},
   "source": [
    "8. Implement a class Person with a class method to count the total number of persons created"
   ]
  },
  {
   "cell_type": "code",
   "execution_count": 46,
   "id": "5ecc7d26-9cd9-4b00-aa7d-256da98ba17f",
   "metadata": {},
   "outputs": [
    {
     "name": "stdout",
     "output_type": "stream",
     "text": [
      "2\n"
     ]
    }
   ],
   "source": [
    "class Person:\n",
    "    count = 0\n",
    "\n",
    "    def __init__(self, name):\n",
    "        self.name = name\n",
    "        Person.count += 1\n",
    "\n",
    "    @classmethod\n",
    "    def get_count(cls):\n",
    "        return cls.count\n",
    "\n",
    "# Example:\n",
    "p1 = Person(\"Alice\")\n",
    "p2 = Person(\"Bob\")\n",
    "print(Person.get_count())  # 2\n"
   ]
  },
  {
   "cell_type": "markdown",
   "id": "853551e6-45d9-4fd9-9234-3cdda488837b",
   "metadata": {},
   "source": [
    " 9. Write a class Fraction with attributes numerator and denominator. Override the str method to display the \n",
    "fraction as \"numerator/denominator\"."
   ]
  },
  {
   "cell_type": "code",
   "execution_count": 47,
   "id": "bcbe0107-b0ad-4533-aeb1-c4f8f297efdd",
   "metadata": {},
   "outputs": [
    {
     "name": "stdout",
     "output_type": "stream",
     "text": [
      "3/4\n"
     ]
    }
   ],
   "source": [
    "class Fraction:\n",
    "    def __init__(self, numerator, denominator):\n",
    "        self.numerator = numerator\n",
    "        self.denominator = denominator\n",
    "\n",
    "    def __str__(self):\n",
    "        return f\"{self.numerator}/{self.denominator}\"\n",
    "\n",
    "# Example:\n",
    "f = Fraction(3, 4)\n",
    "print(f)  # 3/4\n"
   ]
  },
  {
   "cell_type": "markdown",
   "id": "2ab62e2a-6217-4136-891e-ced908e45925",
   "metadata": {},
   "source": [
    " 10. Demonstrate operator overloading by creating a class Vector and overriding the add method to add two \n",
    "vectors"
   ]
  },
  {
   "cell_type": "code",
   "execution_count": 48,
   "id": "35ba5d8a-c247-4b80-a126-0508fa20539c",
   "metadata": {},
   "outputs": [
    {
     "name": "stdout",
     "output_type": "stream",
     "text": [
      "Vector(4, 6)\n"
     ]
    }
   ],
   "source": [
    "class Vector:\n",
    "    def __init__(self, x, y):\n",
    "        self.x = x\n",
    "        self.y = y\n",
    "\n",
    "    def __add__(self, other):\n",
    "        return Vector(self.x + other.x, self.y + other.y)\n",
    "\n",
    "    def __str__(self):\n",
    "        return f\"Vector({self.x}, {self.y})\"\n",
    "\n",
    "# Example:\n",
    "v1 = Vector(1, 2)\n",
    "v2 = Vector(3, 4)\n",
    "v3 = v1 + v2\n",
    "print(v3)  # Vector(4, 6)\n"
   ]
  },
  {
   "cell_type": "markdown",
   "id": "0903ac76-7510-4c12-8547-1af49a0c36d8",
   "metadata": {},
   "source": [
    " 11. Create a class Person with attributes name and age. Add a method greet() that prints \"Hello, my name is \n",
    "{name} and I am {age} years old."
   ]
  },
  {
   "cell_type": "code",
   "execution_count": 49,
   "id": "07af041c-5900-4aab-a2ad-3778c7725add",
   "metadata": {},
   "outputs": [
    {
     "name": "stdout",
     "output_type": "stream",
     "text": [
      "Hello, my name is John and I am 30 years old.\n"
     ]
    }
   ],
   "source": [
    "class Person:\n",
    "    def __init__(self, name, age):\n",
    "        self.name = name\n",
    "        self.age = age\n",
    "\n",
    "    def greet(self):\n",
    "        print(f\"Hello, my name is {self.name} and I am {self.age} years old.\")\n",
    "\n",
    "# Example:\n",
    "p = Person(\"John\", 30)\n",
    "p.greet()  # Hello, my name is John and I am 30 years old.\n"
   ]
  },
  {
   "cell_type": "markdown",
   "id": "ea2db29a-1224-4ca9-9cae-a35413569fee",
   "metadata": {},
   "source": [
    " 12. Implement a class Student with attributes name and grades. Create a method average_grade() to compute \n",
    "the average of the grades"
   ]
  },
  {
   "cell_type": "code",
   "execution_count": 50,
   "id": "e6c39733-d1ea-430b-88f2-f222641cd828",
   "metadata": {},
   "outputs": [
    {
     "name": "stdout",
     "output_type": "stream",
     "text": [
      "84.33333333333333\n"
     ]
    }
   ],
   "source": [
    "class Student:\n",
    "    def __init__(self, name, grades):\n",
    "        self.name = name\n",
    "        self.grades = grades\n",
    "\n",
    "    def average_grade(self):\n",
    "        return sum(self.grades) / len(self.grades) if self.grades else 0\n",
    "\n",
    "# Example:\n",
    "s = Student(\"Alice\", [85, 90, 78])\n",
    "print(s.average_grade())  # 84.3333...\n"
   ]
  },
  {
   "cell_type": "markdown",
   "id": "636895b3-9ec0-4381-b196-5cc79c825d72",
   "metadata": {},
   "source": [
    " 13. Create a class Rectangle with methods set_dimensions() to set the dimensions and area() to calculate the \n",
    "area"
   ]
  },
  {
   "cell_type": "code",
   "execution_count": 51,
   "id": "d1a404b1-a3c6-4bd4-b451-692bf35f3742",
   "metadata": {},
   "outputs": [
    {
     "name": "stdout",
     "output_type": "stream",
     "text": [
      "50\n"
     ]
    }
   ],
   "source": [
    "class Rectangle:\n",
    "    def __init__(self):\n",
    "        self.length = 0\n",
    "        self.width = 0\n",
    "\n",
    "    def set_dimensions(self, length, width):\n",
    "        self.length = length\n",
    "        self.width = width\n",
    "\n",
    "    def area(self):\n",
    "        return self.length * self.width\n",
    "\n",
    "# Example:\n",
    "rect = Rectangle()\n",
    "rect.set_dimensions(5, 10)\n",
    "print(rect.area())  # 50\n"
   ]
  },
  {
   "cell_type": "markdown",
   "id": "01629422-851e-4f37-b808-4f8a4f941446",
   "metadata": {},
   "source": [
    "14. Create a class Employee with a method calculate_salary() that computes the salary based on hours worked \n",
    "and hourly rate. Create a derived class Manager that adds a bonus to the salary"
   ]
  },
  {
   "cell_type": "code",
   "execution_count": 52,
   "id": "dff0dedc-7384-4f13-9ecd-80df63476677",
   "metadata": {},
   "outputs": [
    {
     "name": "stdout",
     "output_type": "stream",
     "text": [
      "800\n",
      "1300\n"
     ]
    }
   ],
   "source": [
    "class Employee:\n",
    "    def __init__(self, hours_worked, hourly_rate):\n",
    "        self.hours_worked = hours_worked\n",
    "        self.hourly_rate = hourly_rate\n",
    "\n",
    "    def calculate_salary(self):\n",
    "        return self.hours_worked * self.hourly_rate\n",
    "\n",
    "class Manager(Employee):\n",
    "    def __init__(self, hours_worked, hourly_rate, bonus):\n",
    "        super().__init__(hours_worked, hourly_rate)\n",
    "        self.bonus = bonus\n",
    "\n",
    "    def calculate_salary(self):\n",
    "        return super().calculate_salary() + self.bonus\n",
    "\n",
    "# Example:\n",
    "e = Employee(40, 20)\n",
    "print(e.calculate_salary())  # 800\n",
    "\n",
    "m = Manager(40, 20, 500)\n",
    "print(m.calculate_salary())  # 1300\n"
   ]
  },
  {
   "cell_type": "markdown",
   "id": "f23df3ad-1af3-4b19-8a18-ea38357e1460",
   "metadata": {},
   "source": [
    "15. Create a class Product with attributes name, price, and quantity. Implement a method total_price() that \n",
    "calculates the total price of the product."
   ]
  },
  {
   "cell_type": "code",
   "execution_count": 53,
   "id": "146c2bca-d330-4221-9132-2eb4779266aa",
   "metadata": {},
   "outputs": [
    {
     "name": "stdout",
     "output_type": "stream",
     "text": [
      "1500\n"
     ]
    }
   ],
   "source": [
    "class Product:\n",
    "    def __init__(self, name, price, quantity):\n",
    "        self.name = name\n",
    "        self.price = price\n",
    "        self.quantity = quantity\n",
    "\n",
    "    def total_price(self):\n",
    "        return self.price * self.quantity\n",
    "\n",
    "# Example:\n",
    "p = Product(\"Laptop\", 500, 3)\n",
    "print(p.total_price())  # 1500\n"
   ]
  },
  {
   "cell_type": "markdown",
   "id": "d4db7a28-8037-4d4a-baaf-fe547b052c8a",
   "metadata": {},
   "source": [
    " 16. Create a class Animal with an abstract method sound(). Create two derived classes Cow and Sheep that \n",
    "implement the sound() method."
   ]
  },
  {
   "cell_type": "code",
   "execution_count": 54,
   "id": "1e6f5b77-a1d8-447a-8b0f-ec4e07997efa",
   "metadata": {},
   "outputs": [
    {
     "name": "stdout",
     "output_type": "stream",
     "text": [
      "Moo\n",
      "Baa\n"
     ]
    }
   ],
   "source": [
    "from abc import ABC, abstractmethod\n",
    "\n",
    "class Animal(ABC):\n",
    "    @abstractmethod\n",
    "    def sound(self):\n",
    "        pass\n",
    "\n",
    "class Cow(Animal):\n",
    "    def sound(self):\n",
    "        print(\"Moo\")\n",
    "\n",
    "class Sheep(Animal):\n",
    "    def sound(self):\n",
    "        print(\"Baa\")\n",
    "\n",
    "# Example:\n",
    "cow = Cow()\n",
    "cow.sound()  # Moo\n",
    "\n",
    "sheep = Sheep()\n",
    "sheep.sound()  # Baa\n"
   ]
  },
  {
   "cell_type": "markdown",
   "id": "2be7f8de-c523-48f7-9f82-c180a7dc7903",
   "metadata": {},
   "source": [
    " 17. Create a class Book with attributes title, author, and year_published. Add a method get_book_info() that \n",
    "returns a formatted string with the book's details"
   ]
  },
  {
   "cell_type": "code",
   "execution_count": 55,
   "id": "ba1c0d1a-650d-419c-9a1e-6476c52b122c",
   "metadata": {},
   "outputs": [
    {
     "name": "stdout",
     "output_type": "stream",
     "text": [
      "'1984' by George Orwell, published in 1949\n"
     ]
    }
   ],
   "source": [
    "class Book:\n",
    "    def __init__(self, title, author, year_published):\n",
    "        self.title = title\n",
    "        self.author = author\n",
    "        self.year_published = year_published\n",
    "\n",
    "    def get_book_info(self):\n",
    "        return f\"'{self.title}' by {self.author}, published in {self.year_published}\"\n",
    "\n",
    "# Example:\n",
    "b = Book(\"1984\", \"George Orwell\", 1949)\n",
    "print(b.get_book_info())  # '1984' by George Orwell, published in 1949\n"
   ]
  },
  {
   "cell_type": "markdown",
   "id": "cb9bdc49-7020-40f8-98ad-c41133df9e5d",
   "metadata": {},
   "source": [
    " 18. Create a class House with attributes address and price. Create a derived class Mansion that adds an \n",
    "attribute number_of_rooms"
   ]
  },
  {
   "cell_type": "code",
   "execution_count": 56,
   "id": "1e0fc830-e8e1-4753-baf8-05578a39003e",
   "metadata": {},
   "outputs": [
    {
     "name": "stdout",
     "output_type": "stream",
     "text": [
      "123 Rich St\n",
      "1000000\n",
      "10\n"
     ]
    }
   ],
   "source": [
    "class House:\n",
    "    def __init__(self, address, price):\n",
    "        self.address = address\n",
    "        self.price = price\n",
    "\n",
    "class Mansion(House):\n",
    "    def __init__(self, address, price, number_of_rooms):\n",
    "        super().__init__(address, price)\n",
    "        self.number_of_rooms = number_of_rooms\n",
    "\n",
    "# Example:\n",
    "mansion = Mansion(\"123 Rich St\", 1000000, 10)\n",
    "print(mansion.address)          # 123 Rich St\n",
    "print(mansion.price)            # 1000000\n",
    "print(mansion.number_of_rooms)  # 10\n"
   ]
  },
  {
   "cell_type": "markdown",
   "id": "f240d5c4-8174-42b5-9b14-01e71705c399",
   "metadata": {},
   "source": [
    "     #  completed  thankyou"
   ]
  },
  {
   "cell_type": "code",
   "execution_count": null,
   "id": "e0fe662f-a7e8-4b8b-801d-e5df241cec32",
   "metadata": {},
   "outputs": [],
   "source": []
  }
 ],
 "metadata": {
  "kernelspec": {
   "display_name": "Python 3 (ipykernel)",
   "language": "python",
   "name": "python3"
  },
  "language_info": {
   "codemirror_mode": {
    "name": "ipython",
    "version": 3
   },
   "file_extension": ".py",
   "mimetype": "text/x-python",
   "name": "python",
   "nbconvert_exporter": "python",
   "pygments_lexer": "ipython3",
   "version": "3.12.7"
  }
 },
 "nbformat": 4,
 "nbformat_minor": 5
}
